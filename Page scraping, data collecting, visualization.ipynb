{
 "cells": [
  {
   "cell_type": "code",
   "execution_count": 1,
   "id": "4ea1d815",
   "metadata": {},
   "outputs": [],
   "source": [
    "import requests\n",
    "from bs4 import BeautifulSoup\n",
    "import pandas as pd\n",
    "import matplotlib.pyplot as plt\n",
    "import numpy as np\n",
    "import re\n",
    "import seaborn as sns\n",
    "from wordcloud import WordCloud, STOPWORDS\n"
   ]
  },
  {
   "cell_type": "markdown",
   "id": "aa11d2fb",
   "metadata": {},
   "source": [
    "## SCRAPING PAGE DATA"
   ]
  },
  {
   "cell_type": "code",
   "execution_count": 15,
   "id": "095350f5",
   "metadata": {},
   "outputs": [],
   "source": [
    "reviews  = []\n",
    "stars = []\n",
    "date = []\n",
    "country = []\n",
    "recomended = []"
   ]
  },
  {
   "cell_type": "code",
   "execution_count": 16,
   "id": "5c75acd3",
   "metadata": {},
   "outputs": [
    {
     "name": "stdout",
     "output_type": "stream",
     "text": [
      "Error on page 30\n",
      "Error on page 30\n",
      "Error on page 30\n",
      "Error on page 32\n",
      "Error on page 32\n",
      "Error on page 33\n",
      "Error on page 33\n",
      "Error on page 33\n",
      "Error on page 33\n",
      "Error on page 33\n",
      "Error on page 34\n",
      "Error on page 35\n",
      "Error on page 36\n",
      "Error on page 36\n",
      "Error on page 36\n",
      "Error on page 41\n",
      "Error on page 42\n",
      "Error on page 42\n"
     ]
    }
   ],
   "source": [
    "for p in range(1,43):\n",
    "    page = requests.get(f\"https://www.airlinequality.com/airline-reviews/condor-airlines/page/{p}/\")\n",
    "    \n",
    "    soup = BeautifulSoup(page.content, 'html.parser')\n",
    "    \n",
    "    for item in soup.find_all(\"div\", class_=\"text_content\"):\n",
    "        reviews.append(item.text)\n",
    "    \n",
    "    for item in soup.find_all(\"div\", class_ = \"rating-10\"):\n",
    "        try:\n",
    "            stars.append(item.span.text.strip())\n",
    "        except:\n",
    "            print(f\"Error on page {p}\")\n",
    "            stars.append(\"None\")\n",
    "            \n",
    "    for item in soup.find_all(\"time\"):\n",
    "        date.append(item.text)\n",
    "        \n",
    "    for item in soup.find_all(\"h3\"):\n",
    "        country.append(item.span.next_sibling.text.strip(\" ()\"))\n",
    "    \n",
    "    for item in soup.find_all(class_ =\"review-rating-header recommended\"):\n",
    "        recomended.append(item.next_sibling.text)\n",
    "        "
   ]
  },
  {
   "cell_type": "code",
   "execution_count": 17,
   "id": "e90f1fda",
   "metadata": {},
   "outputs": [
    {
     "name": "stdout",
     "output_type": "stream",
     "text": [
      "420\n",
      "420\n",
      "420\n",
      "420\n",
      "462\n"
     ]
    }
   ],
   "source": [
    "print(len(reviews))\n",
    "print(len(country))\n",
    "print(len(date))\n",
    "print(len(recomended))\n",
    "print(len(stars))"
   ]
  },
  {
   "cell_type": "code",
   "execution_count": 18,
   "id": "51c67897",
   "metadata": {},
   "outputs": [],
   "source": [
    "stars= stars[:420]"
   ]
  },
  {
   "cell_type": "code",
   "execution_count": 19,
   "id": "a0505366",
   "metadata": {},
   "outputs": [],
   "source": [
    "df = pd.DataFrame({\"reviews\":reviews,\"stars\": stars, \"date\":date, \"country\": country, \"recomended\":recomended})"
   ]
  },
  {
   "cell_type": "code",
   "execution_count": 20,
   "id": "01924b55",
   "metadata": {},
   "outputs": [
    {
     "data": {
      "text/html": [
       "<div>\n",
       "<style scoped>\n",
       "    .dataframe tbody tr th:only-of-type {\n",
       "        vertical-align: middle;\n",
       "    }\n",
       "\n",
       "    .dataframe tbody tr th {\n",
       "        vertical-align: top;\n",
       "    }\n",
       "\n",
       "    .dataframe thead th {\n",
       "        text-align: right;\n",
       "    }\n",
       "</style>\n",
       "<table border=\"1\" class=\"dataframe\">\n",
       "  <thead>\n",
       "    <tr style=\"text-align: right;\">\n",
       "      <th></th>\n",
       "      <th>reviews</th>\n",
       "      <th>stars</th>\n",
       "      <th>date</th>\n",
       "      <th>country</th>\n",
       "      <th>recomended</th>\n",
       "    </tr>\n",
       "  </thead>\n",
       "  <tbody>\n",
       "    <tr>\n",
       "      <th>0</th>\n",
       "      <td>✅ Trip Verified |  I am disappointed with Cond...</td>\n",
       "      <td>4</td>\n",
       "      <td>29th June 2023</td>\n",
       "      <td>Lithuania</td>\n",
       "      <td>no</td>\n",
       "    </tr>\n",
       "    <tr>\n",
       "      <th>1</th>\n",
       "      <td>✅ Trip Verified | Very pleasant experience! Th...</td>\n",
       "      <td>2</td>\n",
       "      <td>27th June 2023</td>\n",
       "      <td>Switzerland</td>\n",
       "      <td>yes</td>\n",
       "    </tr>\n",
       "    <tr>\n",
       "      <th>2</th>\n",
       "      <td>✅ Trip Verified |  What a pleasant surprise. M...</td>\n",
       "      <td>9</td>\n",
       "      <td>23rd June 2023</td>\n",
       "      <td>South Africa</td>\n",
       "      <td>yes</td>\n",
       "    </tr>\n",
       "    <tr>\n",
       "      <th>3</th>\n",
       "      <td>Not Verified |  I flew on Condor not by choice...</td>\n",
       "      <td>7</td>\n",
       "      <td>20th June 2023</td>\n",
       "      <td>Canada</td>\n",
       "      <td>no</td>\n",
       "    </tr>\n",
       "    <tr>\n",
       "      <th>4</th>\n",
       "      <td>✅ Trip Verified |  Apparently, I was flagged f...</td>\n",
       "      <td>2</td>\n",
       "      <td>17th June 2023</td>\n",
       "      <td>United States</td>\n",
       "      <td>no</td>\n",
       "    </tr>\n",
       "    <tr>\n",
       "      <th>...</th>\n",
       "      <td>...</td>\n",
       "      <td>...</td>\n",
       "      <td>...</td>\n",
       "      <td>...</td>\n",
       "      <td>...</td>\n",
       "    </tr>\n",
       "    <tr>\n",
       "      <th>415</th>\n",
       "      <td>FRA-AYT-FRA: Check-in at 4 am was a mess and h...</td>\n",
       "      <td>2</td>\n",
       "      <td>3rd June 2011</td>\n",
       "      <td>Germany</td>\n",
       "      <td>yes</td>\n",
       "    </tr>\n",
       "    <tr>\n",
       "      <th>416</th>\n",
       "      <td>First time I fly with Condor (Comfort Cabin) a...</td>\n",
       "      <td>1</td>\n",
       "      <td>21st May 2011</td>\n",
       "      <td>United States</td>\n",
       "      <td>no</td>\n",
       "    </tr>\n",
       "    <tr>\n",
       "      <th>417</th>\n",
       "      <td>We flew Condor from Frankfurt to Ft. Lauderdal...</td>\n",
       "      <td>10</td>\n",
       "      <td>18th May 2011</td>\n",
       "      <td>United States</td>\n",
       "      <td>no</td>\n",
       "    </tr>\n",
       "    <tr>\n",
       "      <th>418</th>\n",
       "      <td>DUS-LPA. Upgrade to Premium cabin very comfort...</td>\n",
       "      <td>4</td>\n",
       "      <td>26th April 2011</td>\n",
       "      <td>Canada</td>\n",
       "      <td>yes</td>\n",
       "    </tr>\n",
       "    <tr>\n",
       "      <th>419</th>\n",
       "      <td>Condor is a low-cost airline so you get what y...</td>\n",
       "      <td>1</td>\n",
       "      <td>4th March 2011</td>\n",
       "      <td>France</td>\n",
       "      <td>no</td>\n",
       "    </tr>\n",
       "  </tbody>\n",
       "</table>\n",
       "<p>420 rows × 5 columns</p>\n",
       "</div>"
      ],
      "text/plain": [
       "                                               reviews stars             date  \\\n",
       "0    ✅ Trip Verified |  I am disappointed with Cond...     4   29th June 2023   \n",
       "1    ✅ Trip Verified | Very pleasant experience! Th...     2   27th June 2023   \n",
       "2    ✅ Trip Verified |  What a pleasant surprise. M...     9   23rd June 2023   \n",
       "3    Not Verified |  I flew on Condor not by choice...     7   20th June 2023   \n",
       "4    ✅ Trip Verified |  Apparently, I was flagged f...     2   17th June 2023   \n",
       "..                                                 ...   ...              ...   \n",
       "415  FRA-AYT-FRA: Check-in at 4 am was a mess and h...     2    3rd June 2011   \n",
       "416  First time I fly with Condor (Comfort Cabin) a...     1    21st May 2011   \n",
       "417  We flew Condor from Frankfurt to Ft. Lauderdal...    10    18th May 2011   \n",
       "418  DUS-LPA. Upgrade to Premium cabin very comfort...     4  26th April 2011   \n",
       "419  Condor is a low-cost airline so you get what y...     1   4th March 2011   \n",
       "\n",
       "           country recomended  \n",
       "0        Lithuania         no  \n",
       "1      Switzerland        yes  \n",
       "2     South Africa        yes  \n",
       "3           Canada         no  \n",
       "4    United States         no  \n",
       "..             ...        ...  \n",
       "415        Germany        yes  \n",
       "416  United States         no  \n",
       "417  United States         no  \n",
       "418         Canada        yes  \n",
       "419         France         no  \n",
       "\n",
       "[420 rows x 5 columns]"
      ]
     },
     "execution_count": 20,
     "metadata": {},
     "output_type": "execute_result"
    }
   ],
   "source": [
    "df"
   ]
  },
  {
   "cell_type": "markdown",
   "id": "887d381b",
   "metadata": {},
   "source": [
    "## CLEANING AND MANIPULATING THE DATA"
   ]
  },
  {
   "cell_type": "code",
   "execution_count": 21,
   "id": "07706fbb",
   "metadata": {},
   "outputs": [],
   "source": [
    "df[\"Verified\"] = df.reviews.str.contains(\"Trip Verified\")"
   ]
  },
  {
   "cell_type": "code",
   "execution_count": 22,
   "id": "6dd9b81b",
   "metadata": {},
   "outputs": [
    {
     "data": {
      "text/html": [
       "<div>\n",
       "<style scoped>\n",
       "    .dataframe tbody tr th:only-of-type {\n",
       "        vertical-align: middle;\n",
       "    }\n",
       "\n",
       "    .dataframe tbody tr th {\n",
       "        vertical-align: top;\n",
       "    }\n",
       "\n",
       "    .dataframe thead th {\n",
       "        text-align: right;\n",
       "    }\n",
       "</style>\n",
       "<table border=\"1\" class=\"dataframe\">\n",
       "  <thead>\n",
       "    <tr style=\"text-align: right;\">\n",
       "      <th></th>\n",
       "      <th>reviews</th>\n",
       "      <th>stars</th>\n",
       "      <th>date</th>\n",
       "      <th>country</th>\n",
       "      <th>recomended</th>\n",
       "      <th>Verified</th>\n",
       "    </tr>\n",
       "  </thead>\n",
       "  <tbody>\n",
       "    <tr>\n",
       "      <th>0</th>\n",
       "      <td>✅ Trip Verified |  I am disappointed with Cond...</td>\n",
       "      <td>4</td>\n",
       "      <td>29th June 2023</td>\n",
       "      <td>Lithuania</td>\n",
       "      <td>no</td>\n",
       "      <td>True</td>\n",
       "    </tr>\n",
       "    <tr>\n",
       "      <th>1</th>\n",
       "      <td>✅ Trip Verified | Very pleasant experience! Th...</td>\n",
       "      <td>2</td>\n",
       "      <td>27th June 2023</td>\n",
       "      <td>Switzerland</td>\n",
       "      <td>yes</td>\n",
       "      <td>True</td>\n",
       "    </tr>\n",
       "    <tr>\n",
       "      <th>2</th>\n",
       "      <td>✅ Trip Verified |  What a pleasant surprise. M...</td>\n",
       "      <td>9</td>\n",
       "      <td>23rd June 2023</td>\n",
       "      <td>South Africa</td>\n",
       "      <td>yes</td>\n",
       "      <td>True</td>\n",
       "    </tr>\n",
       "    <tr>\n",
       "      <th>3</th>\n",
       "      <td>Not Verified |  I flew on Condor not by choice...</td>\n",
       "      <td>7</td>\n",
       "      <td>20th June 2023</td>\n",
       "      <td>Canada</td>\n",
       "      <td>no</td>\n",
       "      <td>False</td>\n",
       "    </tr>\n",
       "    <tr>\n",
       "      <th>4</th>\n",
       "      <td>✅ Trip Verified |  Apparently, I was flagged f...</td>\n",
       "      <td>2</td>\n",
       "      <td>17th June 2023</td>\n",
       "      <td>United States</td>\n",
       "      <td>no</td>\n",
       "      <td>True</td>\n",
       "    </tr>\n",
       "  </tbody>\n",
       "</table>\n",
       "</div>"
      ],
      "text/plain": [
       "                                             reviews stars            date  \\\n",
       "0  ✅ Trip Verified |  I am disappointed with Cond...     4  29th June 2023   \n",
       "1  ✅ Trip Verified | Very pleasant experience! Th...     2  27th June 2023   \n",
       "2  ✅ Trip Verified |  What a pleasant surprise. M...     9  23rd June 2023   \n",
       "3  Not Verified |  I flew on Condor not by choice...     7  20th June 2023   \n",
       "4  ✅ Trip Verified |  Apparently, I was flagged f...     2  17th June 2023   \n",
       "\n",
       "         country recomended  Verified  \n",
       "0      Lithuania         no      True  \n",
       "1    Switzerland        yes      True  \n",
       "2   South Africa        yes      True  \n",
       "3         Canada         no     False  \n",
       "4  United States         no      True  "
      ]
     },
     "execution_count": 22,
     "metadata": {},
     "output_type": "execute_result"
    }
   ],
   "source": [
    "df.head()"
   ]
  },
  {
   "cell_type": "code",
   "execution_count": 23,
   "id": "375e1f56",
   "metadata": {},
   "outputs": [],
   "source": [
    "df[\"cleanReview\"] = df.loc[:, 'reviews'].apply(lambda x: re.sub(r'[^\\w\\s]', '', x.lower()).strip().replace(\"trip verified\", \"\").replace(\"not verified\", \"\"))"
   ]
  },
  {
   "cell_type": "code",
   "execution_count": 24,
   "id": "0dcc8d42",
   "metadata": {},
   "outputs": [
    {
     "data": {
      "text/html": [
       "<div>\n",
       "<style scoped>\n",
       "    .dataframe tbody tr th:only-of-type {\n",
       "        vertical-align: middle;\n",
       "    }\n",
       "\n",
       "    .dataframe tbody tr th {\n",
       "        vertical-align: top;\n",
       "    }\n",
       "\n",
       "    .dataframe thead th {\n",
       "        text-align: right;\n",
       "    }\n",
       "</style>\n",
       "<table border=\"1\" class=\"dataframe\">\n",
       "  <thead>\n",
       "    <tr style=\"text-align: right;\">\n",
       "      <th></th>\n",
       "      <th>reviews</th>\n",
       "      <th>stars</th>\n",
       "      <th>date</th>\n",
       "      <th>country</th>\n",
       "      <th>recomended</th>\n",
       "      <th>Verified</th>\n",
       "      <th>cleanReview</th>\n",
       "    </tr>\n",
       "  </thead>\n",
       "  <tbody>\n",
       "    <tr>\n",
       "      <th>0</th>\n",
       "      <td>✅ Trip Verified |  I am disappointed with Cond...</td>\n",
       "      <td>4</td>\n",
       "      <td>29th June 2023</td>\n",
       "      <td>Lithuania</td>\n",
       "      <td>no</td>\n",
       "      <td>True</td>\n",
       "      <td>i am disappointed with condors services i w...</td>\n",
       "    </tr>\n",
       "    <tr>\n",
       "      <th>1</th>\n",
       "      <td>✅ Trip Verified | Very pleasant experience! Th...</td>\n",
       "      <td>2</td>\n",
       "      <td>27th June 2023</td>\n",
       "      <td>Switzerland</td>\n",
       "      <td>yes</td>\n",
       "      <td>True</td>\n",
       "      <td>very pleasant experience there was a delay f...</td>\n",
       "    </tr>\n",
       "    <tr>\n",
       "      <th>2</th>\n",
       "      <td>✅ Trip Verified |  What a pleasant surprise. M...</td>\n",
       "      <td>9</td>\n",
       "      <td>23rd June 2023</td>\n",
       "      <td>South Africa</td>\n",
       "      <td>yes</td>\n",
       "      <td>True</td>\n",
       "      <td>what a pleasant surprise my first time on c...</td>\n",
       "    </tr>\n",
       "    <tr>\n",
       "      <th>3</th>\n",
       "      <td>Not Verified |  I flew on Condor not by choice...</td>\n",
       "      <td>7</td>\n",
       "      <td>20th June 2023</td>\n",
       "      <td>Canada</td>\n",
       "      <td>no</td>\n",
       "      <td>False</td>\n",
       "      <td>i flew on condor not by choice but because ...</td>\n",
       "    </tr>\n",
       "    <tr>\n",
       "      <th>4</th>\n",
       "      <td>✅ Trip Verified |  Apparently, I was flagged f...</td>\n",
       "      <td>2</td>\n",
       "      <td>17th June 2023</td>\n",
       "      <td>United States</td>\n",
       "      <td>no</td>\n",
       "      <td>True</td>\n",
       "      <td>apparently i was flagged for an extra secur...</td>\n",
       "    </tr>\n",
       "  </tbody>\n",
       "</table>\n",
       "</div>"
      ],
      "text/plain": [
       "                                             reviews stars            date  \\\n",
       "0  ✅ Trip Verified |  I am disappointed with Cond...     4  29th June 2023   \n",
       "1  ✅ Trip Verified | Very pleasant experience! Th...     2  27th June 2023   \n",
       "2  ✅ Trip Verified |  What a pleasant surprise. M...     9  23rd June 2023   \n",
       "3  Not Verified |  I flew on Condor not by choice...     7  20th June 2023   \n",
       "4  ✅ Trip Verified |  Apparently, I was flagged f...     2  17th June 2023   \n",
       "\n",
       "         country recomended  Verified  \\\n",
       "0      Lithuania         no      True   \n",
       "1    Switzerland        yes      True   \n",
       "2   South Africa        yes      True   \n",
       "3         Canada         no     False   \n",
       "4  United States         no      True   \n",
       "\n",
       "                                         cleanReview  \n",
       "0     i am disappointed with condors services i w...  \n",
       "1    very pleasant experience there was a delay f...  \n",
       "2     what a pleasant surprise my first time on c...  \n",
       "3     i flew on condor not by choice but because ...  \n",
       "4     apparently i was flagged for an extra secur...  "
      ]
     },
     "execution_count": 24,
     "metadata": {},
     "output_type": "execute_result"
    }
   ],
   "source": [
    "df.head()"
   ]
  },
  {
   "cell_type": "code",
   "execution_count": 25,
   "id": "76aace7a",
   "metadata": {},
   "outputs": [],
   "source": [
    "df.date = pd.to_datetime(df.date)"
   ]
  },
  {
   "cell_type": "code",
   "execution_count": 26,
   "id": "65520d86",
   "metadata": {},
   "outputs": [],
   "source": [
    "df[\"Year\"] = df[\"date\"].dt.year"
   ]
  },
  {
   "cell_type": "code",
   "execution_count": 27,
   "id": "83bc4cd9",
   "metadata": {},
   "outputs": [
    {
     "data": {
      "text/plain": [
       "array([ 4,  2,  9,  7,  1,  3,  8, 10,  5,  6])"
      ]
     },
     "execution_count": 27,
     "metadata": {},
     "output_type": "execute_result"
    }
   ],
   "source": [
    "# drop the rows where the value of ratings is None\n",
    "df.drop(df[df.stars == \"None\"].index, axis=0, inplace=True)\n",
    "df[\"stars\"]=df[\"stars\"].astype(int)\n",
    "df.stars.unique()\n"
   ]
  },
  {
   "cell_type": "code",
   "execution_count": 28,
   "id": "44eb8c4f",
   "metadata": {},
   "outputs": [
    {
     "data": {
      "text/plain": [
       "reviews  stars  date   country  recomended  Verified  cleanReview  Year \n",
       "False    False  False  False    False       False     False        False    405\n",
       "dtype: int64"
      ]
     },
     "execution_count": 28,
     "metadata": {},
     "output_type": "execute_result"
    }
   ],
   "source": [
    "df.isnull().value_counts()"
   ]
  },
  {
   "cell_type": "code",
   "execution_count": 29,
   "id": "ff0fe26d",
   "metadata": {},
   "outputs": [
    {
     "data": {
      "text/html": [
       "<div>\n",
       "<style scoped>\n",
       "    .dataframe tbody tr th:only-of-type {\n",
       "        vertical-align: middle;\n",
       "    }\n",
       "\n",
       "    .dataframe tbody tr th {\n",
       "        vertical-align: top;\n",
       "    }\n",
       "\n",
       "    .dataframe thead th {\n",
       "        text-align: right;\n",
       "    }\n",
       "</style>\n",
       "<table border=\"1\" class=\"dataframe\">\n",
       "  <thead>\n",
       "    <tr style=\"text-align: right;\">\n",
       "      <th></th>\n",
       "      <th>reviews</th>\n",
       "      <th>stars</th>\n",
       "      <th>date</th>\n",
       "      <th>country</th>\n",
       "      <th>recomended</th>\n",
       "      <th>Verified</th>\n",
       "      <th>cleanReview</th>\n",
       "      <th>Year</th>\n",
       "    </tr>\n",
       "  </thead>\n",
       "  <tbody>\n",
       "    <tr>\n",
       "      <th>0</th>\n",
       "      <td>✅ Trip Verified |  I am disappointed with Cond...</td>\n",
       "      <td>4</td>\n",
       "      <td>2023-06-29</td>\n",
       "      <td>Lithuania</td>\n",
       "      <td>no</td>\n",
       "      <td>True</td>\n",
       "      <td>i am disappointed with condors services i w...</td>\n",
       "      <td>2023</td>\n",
       "    </tr>\n",
       "    <tr>\n",
       "      <th>1</th>\n",
       "      <td>✅ Trip Verified | Very pleasant experience! Th...</td>\n",
       "      <td>2</td>\n",
       "      <td>2023-06-27</td>\n",
       "      <td>Switzerland</td>\n",
       "      <td>yes</td>\n",
       "      <td>True</td>\n",
       "      <td>very pleasant experience there was a delay f...</td>\n",
       "      <td>2023</td>\n",
       "    </tr>\n",
       "    <tr>\n",
       "      <th>2</th>\n",
       "      <td>✅ Trip Verified |  What a pleasant surprise. M...</td>\n",
       "      <td>9</td>\n",
       "      <td>2023-06-23</td>\n",
       "      <td>South Africa</td>\n",
       "      <td>yes</td>\n",
       "      <td>True</td>\n",
       "      <td>what a pleasant surprise my first time on c...</td>\n",
       "      <td>2023</td>\n",
       "    </tr>\n",
       "    <tr>\n",
       "      <th>3</th>\n",
       "      <td>Not Verified |  I flew on Condor not by choice...</td>\n",
       "      <td>7</td>\n",
       "      <td>2023-06-20</td>\n",
       "      <td>Canada</td>\n",
       "      <td>no</td>\n",
       "      <td>False</td>\n",
       "      <td>i flew on condor not by choice but because ...</td>\n",
       "      <td>2023</td>\n",
       "    </tr>\n",
       "    <tr>\n",
       "      <th>4</th>\n",
       "      <td>✅ Trip Verified |  Apparently, I was flagged f...</td>\n",
       "      <td>2</td>\n",
       "      <td>2023-06-17</td>\n",
       "      <td>United States</td>\n",
       "      <td>no</td>\n",
       "      <td>True</td>\n",
       "      <td>apparently i was flagged for an extra secur...</td>\n",
       "      <td>2023</td>\n",
       "    </tr>\n",
       "  </tbody>\n",
       "</table>\n",
       "</div>"
      ],
      "text/plain": [
       "                                             reviews  stars       date  \\\n",
       "0  ✅ Trip Verified |  I am disappointed with Cond...      4 2023-06-29   \n",
       "1  ✅ Trip Verified | Very pleasant experience! Th...      2 2023-06-27   \n",
       "2  ✅ Trip Verified |  What a pleasant surprise. M...      9 2023-06-23   \n",
       "3  Not Verified |  I flew on Condor not by choice...      7 2023-06-20   \n",
       "4  ✅ Trip Verified |  Apparently, I was flagged f...      2 2023-06-17   \n",
       "\n",
       "         country recomended  Verified  \\\n",
       "0      Lithuania         no      True   \n",
       "1    Switzerland        yes      True   \n",
       "2   South Africa        yes      True   \n",
       "3         Canada         no     False   \n",
       "4  United States         no      True   \n",
       "\n",
       "                                         cleanReview  Year  \n",
       "0     i am disappointed with condors services i w...  2023  \n",
       "1    very pleasant experience there was a delay f...  2023  \n",
       "2     what a pleasant surprise my first time on c...  2023  \n",
       "3     i flew on condor not by choice but because ...  2023  \n",
       "4     apparently i was flagged for an extra secur...  2023  "
      ]
     },
     "execution_count": 29,
     "metadata": {},
     "output_type": "execute_result"
    }
   ],
   "source": [
    "df.head()"
   ]
  },
  {
   "cell_type": "markdown",
   "id": "cbda1106",
   "metadata": {},
   "source": [
    "## DATA VISUALIZATION  "
   ]
  },
  {
   "cell_type": "markdown",
   "id": "fb88f5af",
   "metadata": {},
   "source": [
    "##### Average rating"
   ]
  },
  {
   "cell_type": "code",
   "execution_count": 109,
   "id": "db40958f",
   "metadata": {},
   "outputs": [
    {
     "data": {
      "text/plain": [
       "3.6148148148148147"
      ]
     },
     "execution_count": 109,
     "metadata": {},
     "output_type": "execute_result"
    }
   ],
   "source": [
    "df.stars.mean()"
   ]
  },
  {
   "cell_type": "markdown",
   "id": "f5869906",
   "metadata": {},
   "source": [
    "##### Total count for each ratings"
   ]
  },
  {
   "cell_type": "code",
   "execution_count": 123,
   "id": "eb36e6c4",
   "metadata": {},
   "outputs": [
    {
     "data": {
      "image/png": "[encoded data removed]",
      "text/plain": [
       "<Figure size 200x200 with 1 Axes>"
      ]
     },
     "metadata": {},
     "output_type": "display_data"
    }
   ],
   "source": [
    "plt.stem(df.stars.value_counts())\n",
    "plt.xticks(range(len(df.stars.value_counts().index)))\n",
    "plt.xlabel(\"Rating\")\n",
    "plt.ylabel(\"Count\")\n",
    "plt.title(\"Total count for each ratings\")\n",
    "plt.show()"
   ]
  },
  {
   "cell_type": "markdown",
   "id": "8a5799b9",
   "metadata": {},
   "source": [
    "#### Number of Reviews by country (TOP 5)"
   ]
  },
  {
   "cell_type": "code",
   "execution_count": 148,
   "id": "7e724c93",
   "metadata": {},
   "outputs": [
    {
     "data": {
      "image/png": "[encoded data removed]",
      "text/plain": [
       "<Figure size 200x200 with 1 Axes>"
      ]
     },
     "metadata": {},
     "output_type": "display_data"
    }
   ],
   "source": [
    "country_reviews = df.groupby('country')['reviews'].count()\n",
    "sorted_countries = country_reviews.sort_values(ascending=False)\n",
    "top_countries = sorted_countries[:5]\n",
    "countries = top_countries.index\n",
    "review_counts = top_countries.values\n",
    "plt.bar(countries, review_counts)\n",
    "plt.xlabel('Country')\n",
    "plt.ylabel('Review Count')\n",
    "plt.title('Review Count by Country (Top 5)')\n",
    "plt.xticks(rotation=90)  \n",
    "plt.show()"
   ]
  },
  {
   "cell_type": "markdown",
   "id": "dcebfb7b",
   "metadata": {},
   "source": [
    "##### most used words in revews"
   ]
  },
  {
   "cell_type": "code",
   "execution_count": null,
   "id": "432c1805",
   "metadata": {},
   "outputs": [],
   "source": [
    "import nltk\n",
    "from nltk.corpus import stopwords\n",
    "\n",
    "reviews = \" \".join(df.cleanReview)\n",
    "plt.figure(figsize=(20,10))\n",
    "\n",
    "stopwords = set(stopwords.words('english'))\n",
    "stopwords.update([\"ba\",\"flight\", \"british\",\"airway\", \"airline\",\"plane\", \"told\",\"also\",\"passenger\" \\\n",
    "                 \"london\", \"heathrow\", \"aircraft\", \"could\",\"even\", \"would\"])\n",
    "wordcloud = WordCloud(height=500,width=500,max_font_size=100, max_words=300, stopwords=stopwords).generate(reviews)\n",
    "\n",
    "plt.imshow(wordcloud, interpolation='bilinear')\n",
    "plt.axis(\"off\")\n",
    "plt.show()\n"
   ]
  },
  {
   "cell_type": "markdown",
   "id": "17dcf034",
   "metadata": {},
   "source": [
    "##### Top 10 Countries giving highest rating "
   ]
  },
  {
   "cell_type": "code",
   "execution_count": 166,
   "id": "8863b033",
   "metadata": {},
   "outputs": [
    {
     "data": {
      "image/png": "[encoded data removed]",
      "text/plain": [
       "<Figure size 200x200 with 1 Axes>"
      ]
     },
     "metadata": {},
     "output_type": "display_data"
    }
   ],
   "source": [
    "country_rating = df.groupby('country')['stars'].mean()\n",
    "sorted_countries = country_rating.sort_values(ascending=False)\n",
    "top_countries = sorted_countries[:10]\n",
    "countries = top_countries.index\n",
    "review_counts = top_countries.values\n",
    "plt.bar(countries, review_counts)\n",
    "plt.xticks(rotation=90)  \n",
    "plt.xlabel('Country')\n",
    "plt.ylabel('Average Rating')\n",
    "plt.title('Average Rating by Country')\n",
    "plt.show()"
   ]
  },
  {
   "cell_type": "code",
   "execution_count": 34,
   "id": "ff8aec43",
   "metadata": {},
   "outputs": [
    {
     "data": {
      "image/png": "[encoded data removed]",
      "text/plain": [
       "<Figure size 640x480 with 1 Axes>"
      ]
     },
     "metadata": {},
     "output_type": "display_data"
    }
   ],
   "source": [
    "year = df.groupby('Year')['reviews'].count()\n",
    "sorted_year = year.sort_values(ascending=False)\n",
    "top_years = sorted_year\n",
    "years = top_years.index\n",
    "counts = top_years.values\n",
    "plt.bar(years, counts)\n",
    "plt.xlabel('Year')\n",
    "plt.ylabel('Review Count')\n",
    "plt.title('Review Count by Years')\n",
    "plt.xticks(rotation=90)  \n",
    "plt.show()"
   ]
  }
 ],
 "metadata": {
  "kernelspec": {
   "display_name": "Python 3 (ipykernel)",
   "language": "python",
   "name": "python3"
  },
  "language_info": {
   "codemirror_mode": {
    "name": "ipython",
    "version": 3
   },
   "file_extension": ".py",
   "mimetype": "text/x-python",
   "name": "python",
   "nbconvert_exporter": "python",
   "pygments_lexer": "ipython3",
   "version": "3.10.0"
  }
 },
 "nbformat": 4,
 "nbformat_minor": 5
}
